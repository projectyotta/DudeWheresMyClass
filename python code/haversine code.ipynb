{
 "cells": [
  {
   "cell_type": "code",
   "execution_count": 2,
   "metadata": {},
   "outputs": [
    {
     "name": "stdout",
     "output_type": "stream",
     "text": [
      "Collecting haversine\n",
      "  Using cached haversine-0.4.5.tar.gz\n",
      "Building wheels for collected packages: haversine\n",
      "  Running setup.py bdist_wheel for haversine: started\n",
      "  Running setup.py bdist_wheel for haversine: finished with status 'done'\n",
      "  Stored in directory: C:\\Users\\raosa\\AppData\\Local\\pip\\Cache\\wheels\\be\\a3\\4e\\2e073dc725bf9b430e2d42931c55e5be2be4cdc6e325e17677\n",
      "Successfully built haversine\n",
      "Installing collected packages: haversine\n",
      "Successfully installed haversine-0.4.5\n"
     ]
    }
   ],
   "source": [
    "!pip install haversine"
   ]
  },
  {
   "cell_type": "code",
   "execution_count": 68,
   "metadata": {},
   "outputs": [
    {
     "name": "stdout",
     "output_type": "stream",
     "text": [
      "38.22182071593177 meters\n",
      "125.39967827765759in feet\n"
     ]
    }
   ],
   "source": [
    "# test to see if the logic works \n",
    "from haversine import haversine\n",
    "# consider two points \n",
    "p1 = (38.8351853,-77.31204093)\n",
    "p2 = (38.83518008,-77.3115997)\n",
    "\n",
    "y=(haversine(p1,p2))*1000\n",
    "print(str(y) + \" meters\")\n",
    "\n",
    "# get the value in feet \n",
    "\n",
    "print(str(y*3.28084) + \"in feet\")"
   ]
  },
  {
   "cell_type": "code",
   "execution_count": 69,
   "metadata": {},
   "outputs": [],
   "source": [
    "# load the two tables \n",
    "import pandas as pd \n",
    "points = pd.read_csv('C:\\\\Users\\\\raosa\\\\Desktop\\\\PROJECTS\\\\gmu shortest path\\\\gmu-shortest-path\\\\data\\\\points.csv')\n",
    "connections = pd.read_csv('C:\\\\Users\\\\raosa\\\\Desktop\\\\PROJECTS\\\\gmu shortest path\\\\gmu-shortest-path\\\\data\\\\connections.csv')"
   ]
  },
  {
   "cell_type": "code",
   "execution_count": 70,
   "metadata": {},
   "outputs": [
    {
     "data": {
      "text/html": [
       "<div>\n",
       "<style>\n",
       "    .dataframe thead tr:only-child th {\n",
       "        text-align: right;\n",
       "    }\n",
       "\n",
       "    .dataframe thead th {\n",
       "        text-align: left;\n",
       "    }\n",
       "\n",
       "    .dataframe tbody tr th {\n",
       "        vertical-align: top;\n",
       "    }\n",
       "</style>\n",
       "<table border=\"1\" class=\"dataframe\">\n",
       "  <thead>\n",
       "    <tr style=\"text-align: right;\">\n",
       "      <th></th>\n",
       "      <th>id</th>\n",
       "      <th>lat</th>\n",
       "      <th>lon</th>\n",
       "    </tr>\n",
       "  </thead>\n",
       "  <tbody>\n",
       "    <tr>\n",
       "      <th>0</th>\n",
       "      <td>1</td>\n",
       "      <td>38.835185</td>\n",
       "      <td>-77.312041</td>\n",
       "    </tr>\n",
       "    <tr>\n",
       "      <th>1</th>\n",
       "      <td>2</td>\n",
       "      <td>38.835180</td>\n",
       "      <td>-77.311600</td>\n",
       "    </tr>\n",
       "    <tr>\n",
       "      <th>2</th>\n",
       "      <td>3</td>\n",
       "      <td>38.834964</td>\n",
       "      <td>-77.311704</td>\n",
       "    </tr>\n",
       "    <tr>\n",
       "      <th>3</th>\n",
       "      <td>4</td>\n",
       "      <td>38.834995</td>\n",
       "      <td>-77.312156</td>\n",
       "    </tr>\n",
       "    <tr>\n",
       "      <th>4</th>\n",
       "      <td>5</td>\n",
       "      <td>38.834991</td>\n",
       "      <td>-77.311581</td>\n",
       "    </tr>\n",
       "  </tbody>\n",
       "</table>\n",
       "</div>"
      ],
      "text/plain": [
       "   id        lat        lon\n",
       "0   1  38.835185 -77.312041\n",
       "1   2  38.835180 -77.311600\n",
       "2   3  38.834964 -77.311704\n",
       "3   4  38.834995 -77.312156\n",
       "4   5  38.834991 -77.311581"
      ]
     },
     "execution_count": 70,
     "metadata": {},
     "output_type": "execute_result"
    }
   ],
   "source": [
    "points.head()"
   ]
  },
  {
   "cell_type": "code",
   "execution_count": 71,
   "metadata": {},
   "outputs": [
    {
     "data": {
      "text/html": [
       "<div>\n",
       "<style>\n",
       "    .dataframe thead tr:only-child th {\n",
       "        text-align: right;\n",
       "    }\n",
       "\n",
       "    .dataframe thead th {\n",
       "        text-align: left;\n",
       "    }\n",
       "\n",
       "    .dataframe tbody tr th {\n",
       "        vertical-align: top;\n",
       "    }\n",
       "</style>\n",
       "<table border=\"1\" class=\"dataframe\">\n",
       "  <thead>\n",
       "    <tr style=\"text-align: right;\">\n",
       "      <th></th>\n",
       "      <th>p1</th>\n",
       "      <th>p2</th>\n",
       "    </tr>\n",
       "  </thead>\n",
       "  <tbody>\n",
       "    <tr>\n",
       "      <th>0</th>\n",
       "      <td>4</td>\n",
       "      <td>1</td>\n",
       "    </tr>\n",
       "    <tr>\n",
       "      <th>1</th>\n",
       "      <td>1</td>\n",
       "      <td>2</td>\n",
       "    </tr>\n",
       "    <tr>\n",
       "      <th>2</th>\n",
       "      <td>4</td>\n",
       "      <td>3</td>\n",
       "    </tr>\n",
       "    <tr>\n",
       "      <th>3</th>\n",
       "      <td>3</td>\n",
       "      <td>2</td>\n",
       "    </tr>\n",
       "    <tr>\n",
       "      <th>4</th>\n",
       "      <td>3</td>\n",
       "      <td>5</td>\n",
       "    </tr>\n",
       "  </tbody>\n",
       "</table>\n",
       "</div>"
      ],
      "text/plain": [
       "   p1  p2\n",
       "0   4   1\n",
       "1   1   2\n",
       "2   4   3\n",
       "3   3   2\n",
       "4   3   5"
      ]
     },
     "execution_count": 71,
     "metadata": {},
     "output_type": "execute_result"
    }
   ],
   "source": [
    "connections.head()"
   ]
  },
  {
   "cell_type": "code",
   "execution_count": 72,
   "metadata": {},
   "outputs": [
    {
     "data": {
      "text/plain": [
       "0.03822182071592103"
      ]
     },
     "execution_count": 72,
     "metadata": {},
     "output_type": "execute_result"
    }
   ],
   "source": [
    "# see how we get the distance \n",
    "haversine((points['lat'][0],points['lon'][0]),(points['lat'][1],points['lon'][1]))"
   ]
  },
  {
   "cell_type": "code",
   "execution_count": 152,
   "metadata": {},
   "outputs": [],
   "source": [
    "import math\n",
    "\n",
    "# for i in range(0,len(connections)):\n",
    "\n",
    "#     print(points.loc[points['id'] == connections['p1'][i]]['lat'] , points.loc[points['id'] == connections['p1'][i]]['lon'])\n",
    "#     print(points.loc[points['id'] == connections['p2'][i]]['lat'],points.loc[points['id'] == connections['p2'][i]]['lon'])\n",
    "\n",
    "\n",
    "\n",
    "for i in range(0,len(connections)):\n",
    "    \n",
    "    connections['distance'][i]=(haversine((points.loc[points['id'] == connections['p1'][i]]['lat'],points.loc[points['id'] == connections['p1'][i]]['lon']),\n",
    "    (points.loc[points['id'] == connections['p2'][i]]['lat'],points.loc[points['id'] == connections['p2'][i]]['lon'])))*3280.84\n",
    "\n",
    "\n"
   ]
  },
  {
   "cell_type": "code",
   "execution_count": 155,
   "metadata": {},
   "outputs": [],
   "source": []
  },
  {
   "cell_type": "code",
   "execution_count": null,
   "metadata": {},
   "outputs": [],
   "source": []
  },
  {
   "cell_type": "code",
   "execution_count": null,
   "metadata": {},
   "outputs": [],
   "source": []
  },
  {
   "cell_type": "code",
   "execution_count": null,
   "metadata": {
    "collapsed": true
   },
   "outputs": [],
   "source": []
  }
 ],
 "metadata": {
  "kernelspec": {
   "display_name": "Python 3",
   "language": "python",
   "name": "python3"
  },
  "language_info": {
   "codemirror_mode": {
    "name": "ipython",
    "version": 3
   },
   "file_extension": ".py",
   "mimetype": "text/x-python",
   "name": "python",
   "nbconvert_exporter": "python",
   "pygments_lexer": "ipython3",
   "version": "3.6.1"
  }
 },
 "nbformat": 4,
 "nbformat_minor": 2
}
