{
 "cells": [
  {
   "cell_type": "code",
   "execution_count": 2,
   "metadata": {},
   "outputs": [
    {
     "name": "stdout",
     "output_type": "stream",
     "text": [
      "Collecting haversine\n",
      "  Using cached haversine-0.4.5.tar.gz\n",
      "Building wheels for collected packages: haversine\n",
      "  Running setup.py bdist_wheel for haversine: started\n",
      "  Running setup.py bdist_wheel for haversine: finished with status 'done'\n",
      "  Stored in directory: C:\\Users\\raosa\\AppData\\Local\\pip\\Cache\\wheels\\be\\a3\\4e\\2e073dc725bf9b430e2d42931c55e5be2be4cdc6e325e17677\n",
      "Successfully built haversine\n",
      "Installing collected packages: haversine\n",
      "Successfully installed haversine-0.4.5\n"
     ]
    }
   ],
   "source": [
    "!pip install haversine"
   ]
  },
  {
   "cell_type": "code",
   "execution_count": 4,
   "metadata": {},
   "outputs": [
    {
     "name": "stdout",
     "output_type": "stream",
     "text": [
      "38.22182071593177 meters\n",
      "125.39967827765759in feet\n"
     ]
    }
   ],
   "source": [
    "# test to see if the logic works \n",
    "from haversine import haversine\n",
    "p1 = (38.8351853,-77.31204093)\n",
    "p2 = (38.83518008,-77.3115997)\n",
    "y=(haversine(p1,p2))*1000\n",
    "print(str(y) + \" meters\")\n",
    "\n",
    "# get the value in feet \n",
    "\n",
    "print(str(y*3.28084) + \"in feet\")"
   ]
  },
  {
   "cell_type": "code",
   "execution_count": null,
   "metadata": {
    "collapsed": true
   },
   "outputs": [],
   "source": [
    "# load the two tables \n",
    "import pandas as pd \n"
   ]
  }
 ],
 "metadata": {
  "kernelspec": {
   "display_name": "Python 3",
   "language": "python",
   "name": "python3"
  },
  "language_info": {
   "codemirror_mode": {
    "name": "ipython",
    "version": 3
   },
   "file_extension": ".py",
   "mimetype": "text/x-python",
   "name": "python",
   "nbconvert_exporter": "python",
   "pygments_lexer": "ipython3",
   "version": "3.6.1"
  }
 },
 "nbformat": 4,
 "nbformat_minor": 2
}
